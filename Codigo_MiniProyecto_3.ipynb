{
 "cells": [
  {
   "cell_type": "markdown",
   "id": "8c3498d1",
   "metadata": {},
   "source": [
    "# Codigo implementado - MiniProyecto 3\n",
    "\n",
    "### Eder Guzman 19628\n",
    "### Juan Lorthiois 18771"
   ]
  },
  {
   "cell_type": "code",
   "execution_count": 5,
   "id": "b872254f",
   "metadata": {},
   "outputs": [],
   "source": [
    "import random\n",
    "import statistics\n",
    "import numpy as np\n",
    "import matplotlib.pyplot as plt"
   ]
  },
  {
   "cell_type": "markdown",
   "id": "f52747e9",
   "metadata": {},
   "source": [
    "### Codigo - Ejercicio 2 "
   ]
  },
  {
   "cell_type": "code",
   "execution_count": 6,
   "id": "f40eb600",
   "metadata": {},
   "outputs": [],
   "source": [
    "#Funcion que selecciona un valor aleatorio segun la funcion de peso\n",
    "    #distribucion: es la funcion de peso\n",
    "    #valores: un parametro para indicar cuales son los valores posibles\n",
    "def SimVA(distribucion, valores=None):\n",
    "    #verifica si se ingresaron el parametros valores\n",
    "    if not valores:\n",
    "        valores = [*range(len(distribucion))]\n",
    "        \n",
    "    total = 0\n",
    "    cum_distri = []\n",
    "    \n",
    "    #Calculamos el peso total y las funciones acumuladas\n",
    "    for i in range( len(distribucion) ):\n",
    "        total += distribucion[i]\n",
    "        cum_distri.append(total)\n",
    "    \n",
    "    #generamos un valor al azar\n",
    "    var = random.random()\n",
    "    \n",
    "    var = var*total\n",
    "    \n",
    "    #Vemos donde cae y devolvemos ese valor.\n",
    "    for i in range( len(distribucion) ):\n",
    "        if var <= cum_distri[i]:\n",
    "            return valores[i]\n",
    "        "
   ]
  },
  {
   "cell_type": "code",
   "execution_count": 32,
   "id": "f8d0d2b5",
   "metadata": {},
   "outputs": [
    {
     "data": {
      "image/png": "[encoded data removed]",
      "text/plain": [
       "<Figure size 432x288 with 1 Axes>"
      ]
     },
     "metadata": {
      "needs_background": "light"
     },
     "output_type": "display_data"
    }
   ],
   "source": [
    "#Creamos los array con datos de ejemplo\n",
    "valores_posibles = [j for j in range(18,39,2)]\n",
    "distribucion = [1,2,3,4,5,5,4,3,2,1]\n",
    "\n",
    "#Simulamos la distribucion\n",
    "valores = [SimVA(distribucion, valores=valores_posibles) for i in range(10000)]\n",
    "\n",
    "\n",
    "\n",
    "#Graficamos\n",
    "\n",
    "plt.hist(x=valores,bins=valores_posibles,  color='#F2AB6D', rwidth=0.85)\n",
    "plt.title('Histograma de edades')\n",
    "plt.xlabel('Edades')\n",
    "plt.ylabel('Frecuencia')\n",
    "plt.xticks(valores_posibles)\n",
    "plt.savefig(\"Ej2\")\n",
    "\n",
    "plt.show() #dibujamos el histograma"
   ]
  },
  {
   "cell_type": "code",
   "execution_count": 31,
   "id": "6888a7ee",
   "metadata": {},
   "outputs": [
    {
     "data": {
      "text/plain": [
       "array([0.03, 0.07, 0.1 , 0.13, 0.17, 0.17, 0.13, 0.1 , 0.07, 0.03])"
      ]
     },
     "execution_count": 31,
     "metadata": {},
     "output_type": "execute_result"
    }
   ],
   "source": [
    "a = [1,2,3,4,5,5,4,3,2,1]\n",
    "b = 0\n",
    "for i in range(10):\n",
    "    b += a[i]\n",
    "\n",
    "a=[a[i]/b for i in range(10)]\n",
    "np.round(a,2)"
   ]
  },
  {
   "cell_type": "markdown",
   "id": "a2fe543d",
   "metadata": {},
   "source": [
    "### Codigo - Ejercicio 3 - VPN"
   ]
  },
  {
   "cell_type": "markdown",
   "id": "980d82fa",
   "metadata": {},
   "source": [
    "Empezamos definiendo una funcion para cada proyecto. Cada funcion se encargará de calcular y devolver una lista de n VPNs para n iteraciones. Los valores aleatorios para el cash flow se generan mediante las funciones de numpy para generar valores aleatorios siguiendo una distribucion particular."
   ]
  },
  {
   "cell_type": "markdown",
   "id": "a303ce81",
   "metadata": {},
   "source": [
    "#### Funcion proyecto HOTEL"
   ]
  },
  {
   "cell_type": "code",
   "execution_count": 3,
   "id": "216d4d5e",
   "metadata": {},
   "outputs": [],
   "source": [
    "#funcion que devuelve un listado de n VPNs posibles calculados con base a las distribuciones estipuladas para el proyecto\n",
    "\n",
    "def VPN_Hotel(n): # n es el No de iteraciones\n",
    "    \n",
    "    t_0 = -800\n",
    "    t_1 = np.random.normal(-800, 50, size = n) # n valores aleatorios de la distribucion normal con media -800 y desv. std. 50\n",
    "    t_2 = np.random.normal(-800, 100, size = n)\n",
    "    t_3 = np.random.normal(-700, 150, size = n)\n",
    "    t_4 = np.random.normal( 300, 200, size = n)\n",
    "    t_5 = np.random.normal( 400, 200, size = n)\n",
    "    t_6 = np.random.normal( 500, 200, size = n)\n",
    "    t_7 = np.random.uniform(200, 8440, size = n) # n valores aleatorios de la distribucion uniforme con parametros de 200 y 8440\n",
    "    \n",
    "    VPNs = []\n",
    "    \n",
    "    for i in range(0, n):\n",
    "        \n",
    "        lista_vals = [t_0, t_1[i], t_2[i], t_3[i], t_4[i], t_5[i], t_6[i], t_7[i]]\n",
    "        \n",
    "        VPN = [lista_vals[i]/(1.1)**i for i in range(0, 8)]\n",
    "        \n",
    "        VPNs.append(sum(VPN))\n",
    "        \n",
    "        VPN = []\n",
    "        \n",
    "    return VPNs"
   ]
  },
  {
   "cell_type": "markdown",
   "id": "8927c6db",
   "metadata": {},
   "source": [
    "#### Funcion proyecto CENTRO COMERCIAL"
   ]
  },
  {
   "cell_type": "code",
   "execution_count": 4,
   "id": "c6783372",
   "metadata": {},
   "outputs": [],
   "source": [
    "#funcion que devuelve un listado de n VPNs posibles calculados con base a las distribuciones estipuladas para el proyecto\n",
    "\n",
    "def VPN_Mall(n): # n es el No de iteraciones\n",
    "    \n",
    "    t_0 = -900\n",
    "    t_1 = np.random.normal(-600, 50, size = n) # n valores aleatorios de la distribucion normal con media -600 y desv. std. 50\n",
    "    t_2 = np.random.normal(-200, 50, size = n)\n",
    "    t_3 = np.random.normal(-600, 100, size = n)\n",
    "    t_4 = np.random.normal( 250, 150, size = n)\n",
    "    t_5 = np.random.normal( 350, 150, size = n)\n",
    "    t_6 = np.random.normal( 400, 150, size = n)\n",
    "    t_7 = np.random.uniform(1600, 6000, size = n) # n valores aleatorios de la distribucion uniforme con parametros de 1600 y 6000\n",
    "    \n",
    "    VPNs = []\n",
    "    \n",
    "    for i in range(0, n):\n",
    "        \n",
    "        lista_vals = [t_0, t_1[i], t_2[i], t_3[i], t_4[i], t_5[i], t_6[i], t_7[i]]\n",
    "        \n",
    "        VPN = [lista_vals[i]/(1.1)**i for i in range(0, 8)]\n",
    "        \n",
    "        VPNs.append(sum(VPN))\n",
    "        \n",
    "        VPN = []\n",
    "        \n",
    "    return VPNs"
   ]
  },
  {
   "cell_type": "markdown",
   "id": "8fb41b47",
   "metadata": {},
   "source": [
    "#### Generando distribucion de VPNs para 100, 1000 y 1000 iteraciones para el proyecto del HOTEL"
   ]
  },
  {
   "cell_type": "code",
   "execution_count": 16,
   "id": "0a1f13da",
   "metadata": {},
   "outputs": [],
   "source": [
    "VPN_HOTEL_100 = VPN_Hotel(100)\n",
    "VPN_HOTEL_1000 = VPN_Hotel(1000)\n",
    "VPN_HOTEL_10000 = VPN_Hotel(10000)"
   ]
  },
  {
   "cell_type": "markdown",
   "id": "86621e0b",
   "metadata": {},
   "source": [
    "#### Generamos histogramas para representar graficamente las distribuciones del VPN del HOtel para 100, 1000 y 10,000 iteraciones:"
   ]
  },
  {
   "cell_type": "markdown",
   "id": "bc768730",
   "metadata": {},
   "source": [
    "##### 100 iteraciones - Hotel"
   ]
  },
  {
   "cell_type": "code",
   "execution_count": 42,
   "id": "bad65733",
   "metadata": {},
   "outputs": [
    {
     "data": {
      "text/plain": [
       "Text(0, 0.5, 'P( VPN = x)')"
      ]
     },
     "execution_count": 42,
     "metadata": {},
     "output_type": "execute_result"
    },
    {
     "data": {
      "image/png": "[encoded data removed]",
      "text/plain": [
       "<Figure size 432x288 with 1 Axes>"
      ]
     },
     "metadata": {},
     "output_type": "display_data"
    }
   ],
   "source": [
    "plt.style.use('seaborn-white')\n",
    "plt.hist(VPN_HOTEL_100, bins=30, alpha = 0.8, histtype = 'stepfilled', color = 'steelblue', edgecolor='none', weights=np.ones_like(VPN_HOTEL_100) / len(VPN_HOTEL_100))\n",
    "plt.title('VPN HOTEL con 100 iteraciones')\n",
    "plt.xlabel('VPN')\n",
    "plt.ylabel('P( VPN = x)')"
   ]
  },
  {
   "cell_type": "markdown",
   "id": "480afb7d",
   "metadata": {},
   "source": [
    "##### 1000 iteraciones - Hotel"
   ]
  },
  {
   "cell_type": "code",
   "execution_count": 43,
   "id": "e3d97456",
   "metadata": {},
   "outputs": [
    {
     "data": {
      "text/plain": [
       "Text(0, 0.5, 'P( VPN = x)')"
      ]
     },
     "execution_count": 43,
     "metadata": {},
     "output_type": "execute_result"
    },
    {
     "data": {
      "image/png": "[encoded data removed]",
      "text/plain": [
       "<Figure size 432x288 with 1 Axes>"
      ]
     },
     "metadata": {},
     "output_type": "display_data"
    }
   ],
   "source": [
    "plt.style.use('seaborn-white')\n",
    "plt.hist(VPN_HOTEL_1000, bins=30, alpha = 0.8, histtype = 'stepfilled', color = 'steelblue', edgecolor='none', weights=np.ones_like(VPN_HOTEL_1000) / len(VPN_HOTEL_1000))\n",
    "plt.title('VPN HOTEL con 1000 iteraciones')\n",
    "plt.xlabel('VPN')\n",
    "plt.ylabel('P( VPN = x)')"
   ]
  },
  {
   "cell_type": "markdown",
   "id": "4a0abc82",
   "metadata": {},
   "source": [
    "##### 10,000 iteraciones - Hotel"
   ]
  },
  {
   "cell_type": "code",
   "execution_count": 39,
   "id": "79046893",
   "metadata": {},
   "outputs": [
    {
     "data": {
      "text/plain": [
       "Text(0, 0.5, 'P( VPN = x)')"
      ]
     },
     "execution_count": 39,
     "metadata": {},
     "output_type": "execute_result"
    },
    {
     "data": {
      "image/png": "[encoded data removed]",
      "text/plain": [
       "<Figure size 432x288 with 1 Axes>"
      ]
     },
     "metadata": {},
     "output_type": "display_data"
    }
   ],
   "source": [
    "plt.style.use('seaborn-white')\n",
    "plt.hist(VPN_HOTEL_10000, bins=50, alpha = 0.8,  histtype = 'stepfilled', color = 'steelblue', edgecolor='none', weights=np.ones_like(VPN_HOTEL_10000) / len(VPN_HOTEL_10000))\n",
    "plt.title('VPN HOTEL con 10,000iteraciones')\n",
    "plt.xlabel('VPN')\n",
    "plt.ylabel('P( VPN = x)')"
   ]
  },
  {
   "cell_type": "markdown",
   "id": "b11b4f86",
   "metadata": {},
   "source": [
    "#### Generamos histogramas para representar graficamente las distribuciones del VPN del Mall para 100, 1000 y 10,000 iteraciones:"
   ]
  },
  {
   "cell_type": "code",
   "execution_count": 49,
   "id": "ab8850f3",
   "metadata": {},
   "outputs": [],
   "source": [
    "VPN_MALL_100 = VPN_Mall(100)\n",
    "VPN_MALL_1000 = VPN_Mall(1000)\n",
    "VPN_MALL_10000 = VPN_Mall(10000)"
   ]
  },
  {
   "cell_type": "markdown",
   "id": "e9377770",
   "metadata": {},
   "source": [
    "##### 100 iteraciones - Hotel"
   ]
  },
  {
   "cell_type": "code",
   "execution_count": 51,
   "id": "ff31db87",
   "metadata": {},
   "outputs": [
    {
     "data": {
      "text/plain": [
       "Text(0, 0.5, 'P( VPN = x)')"
      ]
     },
     "execution_count": 51,
     "metadata": {},
     "output_type": "execute_result"
    },
    {
     "data": {
      "image/png": "[encoded data removed]",
      "text/plain": [
       "<Figure size 432x288 with 1 Axes>"
      ]
     },
     "metadata": {},
     "output_type": "display_data"
    }
   ],
   "source": [
    "plt.style.use('seaborn-white')\n",
    "plt.hist(VPN_MALL_100, bins=30, alpha = 0.8, histtype = 'stepfilled', color = 'steelblue', edgecolor='none', weights=np.ones_like(VPN_MALL_100) / len(VPN_MALL_100))\n",
    "plt.title('VPN MALL con 100 iteraciones')\n",
    "plt.xlabel('VPN')\n",
    "plt.ylabel('P( VPN = x)')"
   ]
  },
  {
   "cell_type": "markdown",
   "id": "5530990f",
   "metadata": {},
   "source": [
    "##### 1000 iteraciones - Hotel"
   ]
  },
  {
   "cell_type": "code",
   "execution_count": 52,
   "id": "b3e06330",
   "metadata": {},
   "outputs": [
    {
     "data": {
      "text/plain": [
       "Text(0, 0.5, 'P( VPN = x)')"
      ]
     },
     "execution_count": 52,
     "metadata": {},
     "output_type": "execute_result"
    },
    {
     "data": {
      "image/png": "[encoded data removed]",
      "text/plain": [
       "<Figure size 432x288 with 1 Axes>"
      ]
     },
     "metadata": {},
     "output_type": "display_data"
    }
   ],
   "source": [
    "plt.style.use('seaborn-white')\n",
    "plt.hist(VPN_MALL_1000, bins=30, alpha = 0.8, histtype = 'stepfilled', color = 'steelblue', edgecolor='none', weights=np.ones_like(VPN_MALL_1000) / len(VPN_MALL_1000))\n",
    "plt.title('VPN MALL con 1000 iteraciones')\n",
    "plt.xlabel('VPN')\n",
    "plt.ylabel('P( VPN = x)')"
   ]
  },
  {
   "cell_type": "markdown",
   "id": "947052e2",
   "metadata": {},
   "source": [
    "##### 10,000 iteraciones - Hotel"
   ]
  },
  {
   "cell_type": "code",
   "execution_count": 53,
   "id": "bc2b5e11",
   "metadata": {},
   "outputs": [
    {
     "data": {
      "text/plain": [
       "Text(0, 0.5, 'P( VPN = x)')"
      ]
     },
     "execution_count": 53,
     "metadata": {},
     "output_type": "execute_result"
    },
    {
     "data": {
      "image/png": "[encoded data removed]",
      "text/plain": [
       "<Figure size 432x288 with 1 Axes>"
      ]
     },
     "metadata": {},
     "output_type": "display_data"
    }
   ],
   "source": [
    "plt.style.use('seaborn-white')\n",
    "plt.hist(VPN_MALL_10000, bins=30, alpha = 0.8, histtype = 'stepfilled', color = 'steelblue', edgecolor='none', weights=np.ones_like(VPN_MALL_10000) / len(VPN_MALL_10000))\n",
    "plt.title('VPN MALL con 10000 iteraciones')\n",
    "plt.xlabel('VPN')\n",
    "plt.ylabel('P( VPN = x)')"
   ]
  },
  {
   "cell_type": "markdown",
   "id": "70799d3e",
   "metadata": {},
   "source": [
    "#### Para un mejor visualizacion generamos un histograma \"mezclado\" con 10000 iteraciones:"
   ]
  },
  {
   "cell_type": "code",
   "execution_count": 59,
   "id": "26604b73",
   "metadata": {},
   "outputs": [
    {
     "data": {
      "text/plain": [
       "Text(0.5, 1.0, 'Rosado = VPNs Mall con 10,000 iteraciones')"
      ]
     },
     "execution_count": 59,
     "metadata": {},
     "output_type": "execute_result"
    },
    {
     "data": {
      "image/png": "[encoded data removed]",
      "text/plain": [
       "<Figure size 432x288 with 1 Axes>"
      ]
     },
     "metadata": {},
     "output_type": "display_data"
    }
   ],
   "source": [
    "kwargs = dict(histtype = 'stepfilled',  alpha = 0.4, bins = 40,  weights=np.ones_like(VPN_MALL_10000) / len(VPN_MALL_10000))\n",
    "\n",
    "plt.hist(VPN_HOTEL_10000, **kwargs)\n",
    "plt.hist(VPN_MALL_10000, **kwargs)\n",
    "plt.title('Rosado = VPNs Mall con 10,000 iteraciones')"
   ]
  },
  {
   "cell_type": "code",
   "execution_count": 62,
   "id": "c6ccf8e9",
   "metadata": {},
   "outputs": [],
   "source": [
    "VPN_HOTEL_positivo = []\n",
    "VPN_MALL_positivo = []\n",
    "\n",
    "for i in VPN_HOTEL_10000:\n",
    "    if i >= 0:\n",
    "        VPN_HOTEL_positivo.append(1)\n",
    "        \n",
    "for i in VPN_MALL_10000:\n",
    "    if i >= 0:\n",
    "        VPN_MALL_positivo.append(1)\n",
    "        \n",
    "probabilidad_VPN_HOTEL_positivo = (len(VPN_HOTEL_positivo)/len(VPN_HOTEL_10000))*100\n",
    "probabilidad_VPN_MALL_positivo = (len(VPN_MALL_positivo)/len(VPN_MALL_10000))*100"
   ]
  },
  {
   "cell_type": "code",
   "execution_count": 63,
   "id": "73f59dd0",
   "metadata": {},
   "outputs": [
    {
     "name": "stdout",
     "output_type": "stream",
     "text": [
      "PROBABILIDAD DE QUE EL VPN DEL HOTEL SE POSITIVO:  56.43\n",
      "\n",
      "PROBABILIDAD DE QUE EL VPN DEL MALL SEA POSITIVO:  72.55\n"
     ]
    }
   ],
   "source": [
    "print('PROBABILIDAD DE QUE EL VPN DEL HOTEL SE POSITIVO: ', probabilidad_VPN_HOTEL_positivo)\n",
    "print('')\n",
    "print('PROBABILIDAD DE QUE EL VPN DEL MALL SEA POSITIVO: ', probabilidad_VPN_MALL_positivo)"
   ]
  },
  {
   "cell_type": "markdown",
   "id": "d792ae82",
   "metadata": {},
   "source": [
    "#### CONCLUSION RESPECTO A CADA PROYECTO:\n",
    "\n",
    "Puesto que hay una probabilidad del 72.66% de que el VPN del proyecto del MALL (Centro Comercial) sea positivo, la cual es mayor a la probabilidad de 56.43% de que el VPN del proyecto del hotel sea positivo, concluimos que es más ventajoso invertir en el proyecto del Centro comercial."
   ]
  },
  {
   "cell_type": "markdown",
   "id": "46d3b4fc",
   "metadata": {},
   "source": [
    "### Codigo - Ejercicio 3 - VPN"
   ]
  },
  {
   "cell_type": "code",
   "execution_count": 12,
   "id": "1ecf53df",
   "metadata": {},
   "outputs": [],
   "source": [
    "#Funcion que simula un dia de ventas\n",
    "    # n: el numero de articulos disponible\n",
    "    # compras: las posibles valores de ventas\n",
    "    # precio: el valor de venta de cada articulo\n",
    "    # costo: el valor para llenar el stock por articulo\n",
    "    # dias: el numero de dias a simular\n",
    "    # pesos: las probabilidades de cada compra\n",
    "    # reembolso: el reembolso por articulo sobrante\n",
    "\n",
    "\n",
    "def SimVentas(n, compras, precio, costo, dias, pesos=None, reembolso=0 ):\n",
    "    \n",
    "    #Verifica que el timepo sea no negativo, en caso sea negativo levanta una excepcion\n",
    "    if dias < 0:\n",
    "        raise Exception(\"Los dias no pueden ser negativos.\")\n",
    "    \n",
    "    # Se calcula el costo de los articulos por dia. Abastecimiento desde cero y se inicia el total de ventas para el periodo\n",
    "    costo_ventas = n*costo\n",
    "    total = 0\n",
    "    \n",
    "    #Hacemos simulacion para la cantidad de dias requeridos\n",
    "    \n",
    "    for i in range(dias):\n",
    "        \n",
    "        #Se selecciona una cantidad de compras al azar, dando los pesos indicados\n",
    "        ventas = random.choices(compras, weights=pesos)[0]\n",
    "        \n",
    "        \n",
    "        valor_reembolso=0\n",
    "        ingreso = 0\n",
    "        \n",
    "        #Si sobraron articulos, se calcula el reembolso\n",
    "        if ventas < n:\n",
    "            valor_reembolso = (n-ventas)*reembolso\n",
    "        \n",
    "        #Si se pidieron mas de lo que teniamos, calcula el ingreso como todos los articulos.\n",
    "        if ventas > n:\n",
    "            ingreso = n*precio\n",
    "        else:\n",
    "            ingreso = ventas * precio\n",
    "        \n",
    "        #se calcula el subtotal del dia y se suma al total\n",
    "        subtotal = ingreso - costo_ventas + valor_reembolso\n",
    "        total += subtotal\n",
    "    \n",
    "    return total"
   ]
  },
  {
   "cell_type": "code",
   "execution_count": 38,
   "id": "cb12cb5e",
   "metadata": {},
   "outputs": [],
   "source": [
    "n09 = [[],[],[]]\n",
    "n10 = [[],[],[]]\n",
    "n11 = [[],[],[]]\n",
    "\n",
    "#Simula 50 veces para cada periodo\n",
    "for i in range(1000):\n",
    "    n09[0].append(SimVentas(9, [9,10,11], 2.50, 1.50, 30,pesos=[30,40,30], reembolso=0.5))\n",
    "    n09[1].append(SimVentas(9, [9,10,11], 2.50, 1.50, 365,pesos=[30,40,30], reembolso=0.5))\n",
    "    n09[2].append(SimVentas(9, [9,10,11], 2.50, 1.50, 3650,pesos=[30,40,30], reembolso=0.5))\n",
    "    n10[0].append(SimVentas(10, [9,10,11], 2.50, 1.50, 30,pesos=[30,40,30], reembolso=0.5))\n",
    "    n10[1].append(SimVentas(10, [9,10,11], 2.50, 1.50, 365,pesos=[30,40,30], reembolso=0.5))\n",
    "    n10[2].append(SimVentas(10, [9,10,11], 2.50, 1.50, 3650,pesos=[30,40,30], reembolso=0.5))\n",
    "    n11[0].append(SimVentas(11, [9,10,11], 2.50, 1.50, 30,pesos=[30,40,30], reembolso=0.5))\n",
    "    n11[1].append(SimVentas(11, [9,10,11], 2.50, 1.50, 365,pesos=[30,40,30], reembolso=0.5))\n",
    "    n11[2].append(SimVentas(11, [9,10,11], 2.50, 1.50, 3650,pesos=[30,40,30], reembolso=0.5))"
   ]
  },
  {
   "cell_type": "code",
   "execution_count": 39,
   "id": "a6db5a20",
   "metadata": {},
   "outputs": [
    {
     "name": "stdout",
     "output_type": "stream",
     "text": [
      "270.0 0.0\n",
      "282.088 5.224897659816463\n",
      "270.442 8.505585281506557\n",
      "3285.0 0.0\n",
      "3430.108 17.231751775988105\n",
      "3285.784 29.757668975624803\n",
      "32850.0 0.0\n",
      "34309.086 53.24279669025097\n",
      "32850.47 92.78612161505816\n"
     ]
    }
   ],
   "source": [
    "for i in range(3):\n",
    "    print(statistics.mean(n09[i]),statistics.stdev(n09[i]))\n",
    "    print(statistics.mean(n10[i]),statistics.stdev(n10[i]))\n",
    "    print(statistics.mean(n11[i]),statistics.stdev(n11[i]))"
   ]
  },
  {
   "cell_type": "code",
   "execution_count": null,
   "id": "08f1861d",
   "metadata": {},
   "outputs": [],
   "source": []
  }
 ],
 "metadata": {
  "kernelspec": {
   "display_name": "Python 3 (ipykernel)",
   "language": "python",
   "name": "python3"
  },
  "language_info": {
   "codemirror_mode": {
    "name": "ipython",
    "version": 3
   },
   "file_extension": ".py",
   "mimetype": "text/x-python",
   "name": "python",
   "nbconvert_exporter": "python",
   "pygments_lexer": "ipython3",
   "version": "3.9.7"
  }
 },
 "nbformat": 4,
 "nbformat_minor": 5
}
